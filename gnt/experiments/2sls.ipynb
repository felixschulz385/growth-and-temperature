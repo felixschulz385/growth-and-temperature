{
 "cells": [
  {
   "cell_type": "code",
   "execution_count": 15,
   "id": "bedb5ad9",
   "metadata": {},
   "outputs": [],
   "source": [
    "import pandas as pd\n",
    "test_data = pd.read_parquet(\"/scicore/home/meiera/schulz0022/projects/growth-and-temperature/data_nobackup/assembled/modis.parquet/ix=6/iy=10/data.parquet\")"
   ]
  },
  {
   "cell_type": "code",
   "execution_count": 18,
   "id": "55fcc44c",
   "metadata": {},
   "outputs": [
    {
     "data": {
      "text/html": [
       "<table class=\"simpletable\">\n",
       "<caption>OLS Regression Results</caption>\n",
       "<tr>\n",
       "  <th>Dep. Variable:</th>        <td>ntl_harm</td>     <th>  R-squared:         </th>  <td>   0.002</td>  \n",
       "</tr>\n",
       "<tr>\n",
       "  <th>Model:</th>                   <td>OLS</td>       <th>  Adj. R-squared:    </th>  <td>   0.002</td>  \n",
       "</tr>\n",
       "<tr>\n",
       "  <th>Method:</th>             <td>Least Squares</td>  <th>  F-statistic:       </th>  <td>8.817e+04</td> \n",
       "</tr>\n",
       "<tr>\n",
       "  <th>Date:</th>             <td>Mon, 29 Sep 2025</td> <th>  Prob (F-statistic):</th>   <td>  0.00</td>   \n",
       "</tr>\n",
       "<tr>\n",
       "  <th>Time:</th>                 <td>17:28:49</td>     <th>  Log-Likelihood:    </th> <td>-1.2338e+08</td>\n",
       "</tr>\n",
       "<tr>\n",
       "  <th>No. Observations:</th>     <td>36428763</td>     <th>  AIC:               </th>  <td>2.468e+08</td> \n",
       "</tr>\n",
       "<tr>\n",
       "  <th>Df Residuals:</th>         <td>36428761</td>     <th>  BIC:               </th>  <td>2.468e+08</td> \n",
       "</tr>\n",
       "<tr>\n",
       "  <th>Df Model:</th>              <td>     1</td>      <th>                     </th>      <td> </td>     \n",
       "</tr>\n",
       "<tr>\n",
       "  <th>Covariance Type:</th>      <td>nonrobust</td>    <th>                     </th>      <td> </td>     \n",
       "</tr>\n",
       "</table>\n",
       "<table class=\"simpletable\">\n",
       "<tr>\n",
       "         <td></td>            <th>coef</th>     <th>std err</th>      <th>t</th>      <th>P>|t|</th>  <th>[0.025</th>    <th>0.975]</th>  \n",
       "</tr>\n",
       "<tr>\n",
       "  <th>Intercept</th>       <td>    2.2378</td> <td>    0.001</td> <td> 1868.418</td> <td> 0.000</td> <td>    2.235</td> <td>    2.240</td>\n",
       "</tr>\n",
       "<tr>\n",
       "  <th>reg_fav[T.True]</th> <td>    2.5186</td> <td>    0.008</td> <td>  296.934</td> <td> 0.000</td> <td>    2.502</td> <td>    2.535</td>\n",
       "</tr>\n",
       "</table>\n",
       "<table class=\"simpletable\">\n",
       "<tr>\n",
       "  <th>Omnibus:</th>       <td>37156490.408</td> <th>  Durbin-Watson:     </th>    <td>   0.100</td>   \n",
       "</tr>\n",
       "<tr>\n",
       "  <th>Prob(Omnibus):</th>    <td> 0.000</td>    <th>  Jarque-Bera (JB):  </th> <td>1792064017.722</td>\n",
       "</tr>\n",
       "<tr>\n",
       "  <th>Skew:</th>             <td> 5.259</td>    <th>  Prob(JB):          </th>    <td>    0.00</td>   \n",
       "</tr>\n",
       "<tr>\n",
       "  <th>Kurtosis:</th>         <td>35.711</td>    <th>  Cond. No.          </th>    <td>    7.16</td>   \n",
       "</tr>\n",
       "</table><br/><br/>Notes:<br/>[1] Standard Errors assume that the covariance matrix of the errors is correctly specified."
      ],
      "text/latex": [
       "\\begin{center}\n",
       "\\begin{tabular}{lclc}\n",
       "\\toprule\n",
       "\\textbf{Dep. Variable:}    &    ntl\\_harm     & \\textbf{  R-squared:         } &       0.002     \\\\\n",
       "\\textbf{Model:}            &       OLS        & \\textbf{  Adj. R-squared:    } &       0.002     \\\\\n",
       "\\textbf{Method:}           &  Least Squares   & \\textbf{  F-statistic:       } &   8.817e+04     \\\\\n",
       "\\textbf{Date:}             & Mon, 29 Sep 2025 & \\textbf{  Prob (F-statistic):} &       0.00      \\\\\n",
       "\\textbf{Time:}             &     17:28:49     & \\textbf{  Log-Likelihood:    } &  -1.2338e+08    \\\\\n",
       "\\textbf{No. Observations:} &     36428763     & \\textbf{  AIC:               } &   2.468e+08     \\\\\n",
       "\\textbf{Df Residuals:}     &     36428761     & \\textbf{  BIC:               } &   2.468e+08     \\\\\n",
       "\\textbf{Df Model:}         &           1      & \\textbf{                     } &                 \\\\\n",
       "\\textbf{Covariance Type:}  &    nonrobust     & \\textbf{                     } &                 \\\\\n",
       "\\bottomrule\n",
       "\\end{tabular}\n",
       "\\begin{tabular}{lcccccc}\n",
       "                          & \\textbf{coef} & \\textbf{std err} & \\textbf{t} & \\textbf{P$> |$t$|$} & \\textbf{[0.025} & \\textbf{0.975]}  \\\\\n",
       "\\midrule\n",
       "\\textbf{Intercept}        &       2.2378  &        0.001     &  1868.418  &         0.000        &        2.235    &        2.240     \\\\\n",
       "\\textbf{reg\\_fav[T.True]} &       2.5186  &        0.008     &   296.934  &         0.000        &        2.502    &        2.535     \\\\\n",
       "\\bottomrule\n",
       "\\end{tabular}\n",
       "\\begin{tabular}{lclc}\n",
       "\\textbf{Omnibus:}       & 37156490.408 & \\textbf{  Durbin-Watson:     } &       0.100     \\\\\n",
       "\\textbf{Prob(Omnibus):} &     0.000    & \\textbf{  Jarque-Bera (JB):  } & 1792064017.722  \\\\\n",
       "\\textbf{Skew:}          &     5.259    & \\textbf{  Prob(JB):          } &        0.00     \\\\\n",
       "\\textbf{Kurtosis:}      &    35.711    & \\textbf{  Cond. No.          } &        7.16     \\\\\n",
       "\\bottomrule\n",
       "\\end{tabular}\n",
       "%\\caption{OLS Regression Results}\n",
       "\\end{center}\n",
       "\n",
       "Notes: \\newline\n",
       " [1] Standard Errors assume that the covariance matrix of the errors is correctly specified."
      ],
      "text/plain": [
       "<class 'statsmodels.iolib.summary.Summary'>\n",
       "\"\"\"\n",
       "                            OLS Regression Results                            \n",
       "==============================================================================\n",
       "Dep. Variable:               ntl_harm   R-squared:                       0.002\n",
       "Model:                            OLS   Adj. R-squared:                  0.002\n",
       "Method:                 Least Squares   F-statistic:                 8.817e+04\n",
       "Date:                Mon, 29 Sep 2025   Prob (F-statistic):               0.00\n",
       "Time:                        17:28:49   Log-Likelihood:            -1.2338e+08\n",
       "No. Observations:            36428763   AIC:                         2.468e+08\n",
       "Df Residuals:                36428761   BIC:                         2.468e+08\n",
       "Df Model:                           1                                         \n",
       "Covariance Type:            nonrobust                                         \n",
       "===================================================================================\n",
       "                      coef    std err          t      P>|t|      [0.025      0.975]\n",
       "-----------------------------------------------------------------------------------\n",
       "Intercept           2.2378      0.001   1868.418      0.000       2.235       2.240\n",
       "reg_fav[T.True]     2.5186      0.008    296.934      0.000       2.502       2.535\n",
       "==============================================================================\n",
       "Omnibus:                 37156490.408   Durbin-Watson:                   0.100\n",
       "Prob(Omnibus):                  0.000   Jarque-Bera (JB):       1792064017.722\n",
       "Skew:                           5.259   Prob(JB):                         0.00\n",
       "Kurtosis:                      35.711   Cond. No.                         7.16\n",
       "==============================================================================\n",
       "\n",
       "Notes:\n",
       "[1] Standard Errors assume that the covariance matrix of the errors is correctly specified.\n",
       "\"\"\""
      ]
     },
     "execution_count": 18,
     "metadata": {},
     "output_type": "execute_result"
    }
   ],
   "source": [
    "import statsmodels.formula.api as smf\n",
    "\n",
    "smf.ols(\"ntl_harm ~ reg_fav\", data = test_data).fit().summary()"
   ]
  },
  {
   "cell_type": "code",
   "execution_count": 16,
   "id": "fde6e420",
   "metadata": {},
   "outputs": [
    {
     "data": {
      "text/html": [
       "<div>\n",
       "<style scoped>\n",
       "    .dataframe tbody tr th:only-of-type {\n",
       "        vertical-align: middle;\n",
       "    }\n",
       "\n",
       "    .dataframe tbody tr th {\n",
       "        vertical-align: top;\n",
       "    }\n",
       "\n",
       "    .dataframe thead th {\n",
       "        text-align: right;\n",
       "    }\n",
       "</style>\n",
       "<table border=\"1\" class=\"dataframe\">\n",
       "  <thead>\n",
       "    <tr style=\"text-align: right;\">\n",
       "      <th></th>\n",
       "      <th>reg_fav</th>\n",
       "      <th>ntl_harm</th>\n",
       "    </tr>\n",
       "  </thead>\n",
       "  <tbody>\n",
       "    <tr>\n",
       "      <th>reg_fav</th>\n",
       "      <td>1.000000</td>\n",
       "      <td>0.049137</td>\n",
       "    </tr>\n",
       "    <tr>\n",
       "      <th>ntl_harm</th>\n",
       "      <td>0.049137</td>\n",
       "      <td>1.000000</td>\n",
       "    </tr>\n",
       "  </tbody>\n",
       "</table>\n",
       "</div>"
      ],
      "text/plain": [
       "           reg_fav  ntl_harm\n",
       "reg_fav   1.000000  0.049137\n",
       "ntl_harm  0.049137  1.000000"
      ]
     },
     "execution_count": 16,
     "metadata": {},
     "output_type": "execute_result"
    }
   ],
   "source": [
    "test_data[[\"reg_fav\", \"ntl_harm\"]].corr()"
   ]
  }
 ],
 "metadata": {
  "kernelspec": {
   "display_name": "gnt",
   "language": "python",
   "name": "python3"
  },
  "language_info": {
   "codemirror_mode": {
    "name": "ipython",
    "version": 3
   },
   "file_extension": ".py",
   "mimetype": "text/x-python",
   "name": "python",
   "nbconvert_exporter": "python",
   "pygments_lexer": "ipython3",
   "version": "3.11.11"
  }
 },
 "nbformat": 4,
 "nbformat_minor": 5
}
