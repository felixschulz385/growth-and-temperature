{
 "cells": [
  {
   "cell_type": "code",
   "execution_count": 2,
   "id": "66aab2e2",
   "metadata": {},
   "outputs": [],
   "source": [
    "import vaex"
   ]
  },
  {
   "cell_type": "code",
   "execution_count": 3,
   "id": "ab6cfdd1",
   "metadata": {},
   "outputs": [],
   "source": [
    "df = vaex.open('/scicore/home/meiera/schulz0022/projects/growth-and-temperature/data_nobackup/assembled/_modis.parquet')"
   ]
  },
  {
   "cell_type": "code",
   "execution_count": 4,
   "id": "54ca1f06",
   "metadata": {},
   "outputs": [
    {
     "data": {
      "text/html": [
       "<table>\n",
       "<thead>\n",
       "<tr><th>#                                         </th><th>latitude  </th><th>longitude  </th><th>band  </th><th>year  </th><th>median  </th><th>mean  </th><th>rollmax3  </th><th>viirs_annual  </th><th>ntl_harm  </th><th>countries  </th><th>subdivisions  </th><th>pixel_id  </th><th>tile_ix  </th><th>tile_iy  </th><th>median_time_demeaned  </th><th>mean_time_demeaned  </th><th>rollmax3_time_demeaned  </th><th>viirs_annual_time_demeaned  </th><th>ntl_harm_time_demeaned  </th><th>median_unit_demeaned  </th><th>mean_unit_demeaned  </th><th>rollmax3_unit_demeaned  </th><th>viirs_annual_unit_demeaned  </th><th>ntl_harm_unit_demeaned  </th><th>median_twoway_demeaned  </th><th>mean_twoway_demeaned  </th><th>rollmax3_twoway_demeaned  </th><th>viirs_annual_twoway_demeaned  </th><th>ntl_harm_twoway_demeaned  </th><th>ix  </th><th>iy  </th></tr>\n",
       "</thead>\n",
       "<tbody>\n",
       "<tr><td><i style='opacity: 0.6'>0</i>             </td><td>71.60417  </td><td>-179.22917 </td><td>1     </td><td>2000  </td><td>--      </td><td>--    </td><td>--        </td><td>--            </td><td>0.0       </td><td>--         </td><td>--            </td><td>1669305   </td><td>0        </td><td>0        </td><td>--                    </td><td>--                  </td><td>--                      </td><td>--                          </td><td>-0.46954744124693526    </td><td>--                    </td><td>--                  </td><td>--                      </td><td>--                          </td><td>0.0                     </td><td>--                      </td><td>--                    </td><td>--                        </td><td>--                            </td><td>-0.46954744124693526      </td><td>0   </td><td>0   </td></tr>\n",
       "<tr><td><i style='opacity: 0.6'>1</i>             </td><td>71.60417  </td><td>-179.22917 </td><td>1     </td><td>2001  </td><td>--      </td><td>--    </td><td>--        </td><td>--            </td><td>0.0       </td><td>--         </td><td>--            </td><td>1669305   </td><td>0        </td><td>0        </td><td>--                    </td><td>--                  </td><td>--                      </td><td>--                          </td><td>-0.4565566698161463     </td><td>--                    </td><td>--                  </td><td>--                      </td><td>--                          </td><td>0.0                     </td><td>--                      </td><td>--                    </td><td>--                        </td><td>--                            </td><td>-0.4565566698161463       </td><td>0   </td><td>0   </td></tr>\n",
       "<tr><td><i style='opacity: 0.6'>2</i>             </td><td>71.60417  </td><td>-179.22917 </td><td>1     </td><td>2002  </td><td>--      </td><td>--    </td><td>--        </td><td>--            </td><td>0.0       </td><td>--         </td><td>--            </td><td>1669305   </td><td>0        </td><td>0        </td><td>--                    </td><td>--                  </td><td>--                      </td><td>--                          </td><td>-0.4405973792555018     </td><td>--                    </td><td>--                  </td><td>--                      </td><td>--                          </td><td>0.0                     </td><td>--                      </td><td>--                    </td><td>--                        </td><td>--                            </td><td>-0.4405973792555018       </td><td>0   </td><td>0   </td></tr>\n",
       "<tr><td><i style='opacity: 0.6'>3</i>             </td><td>71.60417  </td><td>-179.22917 </td><td>1     </td><td>2003  </td><td>--      </td><td>--    </td><td>--        </td><td>--            </td><td>0.0       </td><td>--         </td><td>--            </td><td>1669305   </td><td>0        </td><td>0        </td><td>--                    </td><td>--                  </td><td>--                      </td><td>--                          </td><td>-0.4637885350914905     </td><td>--                    </td><td>--                  </td><td>--                      </td><td>--                          </td><td>0.0                     </td><td>--                      </td><td>--                    </td><td>--                        </td><td>--                            </td><td>-0.4637885350914905       </td><td>0   </td><td>0   </td></tr>\n",
       "<tr><td><i style='opacity: 0.6'>4</i>             </td><td>71.60417  </td><td>-179.22917 </td><td>1     </td><td>2004  </td><td>--      </td><td>--    </td><td>--        </td><td>--            </td><td>0.0       </td><td>--         </td><td>--            </td><td>1669305   </td><td>0        </td><td>0        </td><td>--                    </td><td>--                  </td><td>--                      </td><td>--                          </td><td>-0.48816702679557206    </td><td>--                    </td><td>--                  </td><td>--                      </td><td>--                          </td><td>0.0                     </td><td>--                      </td><td>--                    </td><td>--                        </td><td>--                            </td><td>-0.48816702679557206      </td><td>0   </td><td>0   </td></tr>\n",
       "<tr><td>...                                       </td><td>...       </td><td>...        </td><td>...   </td><td>...   </td><td>...     </td><td>...   </td><td>...       </td><td>...           </td><td>...       </td><td>...        </td><td>...           </td><td>...       </td><td>...      </td><td>...      </td><td>...                   </td><td>...                 </td><td>...                     </td><td>...                         </td><td>...                     </td><td>...                   </td><td>...                 </td><td>...                     </td><td>...                         </td><td>...                     </td><td>...                     </td><td>...                   </td><td>...                       </td><td>...                           </td><td>...                       </td><td>... </td><td>... </td></tr>\n",
       "<tr><td><i style='opacity: 0.6'>17,871,105,289</i></td><td>-9.43333  </td><td>179.85834  </td><td>1     </td><td>2016  </td><td>--      </td><td>--    </td><td>--        </td><td>--            </td><td>0.0       </td><td>226.0      </td><td>3247.0        </td><td>705670    </td><td>9        </td><td>42       </td><td>--                    </td><td>--                  </td><td>--                      </td><td>--                          </td><td>-0.44990798562603923    </td><td>--                    </td><td>--                  </td><td>--                      </td><td>--                          </td><td>0.0                     </td><td>--                      </td><td>--                    </td><td>--                        </td><td>--                            </td><td>-0.44990798562603923      </td><td>9   </td><td>42  </td></tr>\n",
       "<tr><td><i style='opacity: 0.6'>17,871,105,290</i></td><td>-9.43333  </td><td>179.85834  </td><td>1     </td><td>2017  </td><td>--      </td><td>--    </td><td>--        </td><td>--            </td><td>0.0       </td><td>226.0      </td><td>3247.0        </td><td>705670    </td><td>9        </td><td>42       </td><td>--                    </td><td>--                  </td><td>--                      </td><td>--                          </td><td>-0.5924726985104256     </td><td>--                    </td><td>--                  </td><td>--                      </td><td>--                          </td><td>0.0                     </td><td>--                      </td><td>--                    </td><td>--                        </td><td>--                            </td><td>-0.5924726985104256       </td><td>9   </td><td>42  </td></tr>\n",
       "<tr><td><i style='opacity: 0.6'>17,871,105,291</i></td><td>-9.43333  </td><td>179.85834  </td><td>1     </td><td>2018  </td><td>--      </td><td>--    </td><td>--        </td><td>--            </td><td>0.0       </td><td>226.0      </td><td>3247.0        </td><td>705670    </td><td>9        </td><td>42       </td><td>--                    </td><td>--                  </td><td>--                      </td><td>--                          </td><td>-0.6050744689906603     </td><td>--                    </td><td>--                  </td><td>--                      </td><td>--                          </td><td>0.0                     </td><td>--                      </td><td>--                    </td><td>--                        </td><td>--                            </td><td>-0.6050744689906603       </td><td>9   </td><td>42  </td></tr>\n",
       "<tr><td><i style='opacity: 0.6'>17,871,105,292</i></td><td>-9.43333  </td><td>179.85834  </td><td>1     </td><td>2019  </td><td>--      </td><td>--    </td><td>--        </td><td>--            </td><td>0.0       </td><td>226.0      </td><td>3247.0        </td><td>705670    </td><td>9        </td><td>42       </td><td>--                    </td><td>--                  </td><td>--                      </td><td>--                          </td><td>-0.633874624673158      </td><td>--                    </td><td>--                  </td><td>--                      </td><td>--                          </td><td>0.0                     </td><td>--                      </td><td>--                    </td><td>--                        </td><td>--                            </td><td>-0.633874624673158        </td><td>9   </td><td>42  </td></tr>\n",
       "<tr><td><i style='opacity: 0.6'>17,871,105,293</i></td><td>-9.43333  </td><td>179.85834  </td><td>1     </td><td>2020  </td><td>--      </td><td>--    </td><td>--        </td><td>--            </td><td>0.0       </td><td>226.0      </td><td>3247.0        </td><td>705670    </td><td>9        </td><td>42       </td><td>--                    </td><td>--                  </td><td>--                      </td><td>--                          </td><td>-0.6136955060645313     </td><td>--                    </td><td>--                  </td><td>--                      </td><td>--                          </td><td>0.0                     </td><td>--                      </td><td>--                    </td><td>--                        </td><td>--                            </td><td>-0.6136955060645313       </td><td>9   </td><td>42  </td></tr>\n",
       "</tbody>\n",
       "</table>"
      ],
      "text/plain": [
       "#               latitude    longitude    band    year    median    mean    rollmax3    viirs_annual    ntl_harm    countries    subdivisions    pixel_id    tile_ix    tile_iy    median_time_demeaned    mean_time_demeaned    rollmax3_time_demeaned    viirs_annual_time_demeaned    ntl_harm_time_demeaned    median_unit_demeaned    mean_unit_demeaned    rollmax3_unit_demeaned    viirs_annual_unit_demeaned    ntl_harm_unit_demeaned    median_twoway_demeaned    mean_twoway_demeaned    rollmax3_twoway_demeaned    viirs_annual_twoway_demeaned    ntl_harm_twoway_demeaned    ix    iy\n",
       "0               71.60417    -179.22917   1       2000    --        --      --          --              0.0         --           --              1669305     0          0          --                      --                    --                        --                            -0.46954744124693526      --                      --                    --                        --                            0.0                       --                        --                      --                          --                              -0.46954744124693526        0     0\n",
       "1               71.60417    -179.22917   1       2001    --        --      --          --              0.0         --           --              1669305     0          0          --                      --                    --                        --                            -0.4565566698161463       --                      --                    --                        --                            0.0                       --                        --                      --                          --                              -0.4565566698161463         0     0\n",
       "2               71.60417    -179.22917   1       2002    --        --      --          --              0.0         --           --              1669305     0          0          --                      --                    --                        --                            -0.4405973792555018       --                      --                    --                        --                            0.0                       --                        --                      --                          --                              -0.4405973792555018         0     0\n",
       "3               71.60417    -179.22917   1       2003    --        --      --          --              0.0         --           --              1669305     0          0          --                      --                    --                        --                            -0.4637885350914905       --                      --                    --                        --                            0.0                       --                        --                      --                          --                              -0.4637885350914905         0     0\n",
       "4               71.60417    -179.22917   1       2004    --        --      --          --              0.0         --           --              1669305     0          0          --                      --                    --                        --                            -0.48816702679557206      --                      --                    --                        --                            0.0                       --                        --                      --                          --                              -0.48816702679557206        0     0\n",
       "...             ...         ...          ...     ...     ...       ...     ...         ...             ...         ...          ...             ...         ...        ...        ...                     ...                   ...                       ...                           ...                       ...                     ...                   ...                       ...                           ...                       ...                       ...                     ...                         ...                             ...                         ...   ...\n",
       "17,871,105,289  -9.43333    179.85834    1       2016    --        --      --          --              0.0         226.0        3247.0          705670      9          42         --                      --                    --                        --                            -0.44990798562603923      --                      --                    --                        --                            0.0                       --                        --                      --                          --                              -0.44990798562603923        9     42\n",
       "17,871,105,290  -9.43333    179.85834    1       2017    --        --      --          --              0.0         226.0        3247.0          705670      9          42         --                      --                    --                        --                            -0.5924726985104256       --                      --                    --                        --                            0.0                       --                        --                      --                          --                              -0.5924726985104256         9     42\n",
       "17,871,105,291  -9.43333    179.85834    1       2018    --        --      --          --              0.0         226.0        3247.0          705670      9          42         --                      --                    --                        --                            -0.6050744689906603       --                      --                    --                        --                            0.0                       --                        --                      --                          --                              -0.6050744689906603         9     42\n",
       "17,871,105,292  -9.43333    179.85834    1       2019    --        --      --          --              0.0         226.0        3247.0          705670      9          42         --                      --                    --                        --                            -0.633874624673158        --                      --                    --                        --                            0.0                       --                        --                      --                          --                              -0.633874624673158          9     42\n",
       "17,871,105,293  -9.43333    179.85834    1       2020    --        --      --          --              0.0         226.0        3247.0          705670      9          42         --                      --                    --                        --                            -0.6136955060645313       --                      --                    --                        --                            0.0                       --                        --                      --                          --                              -0.6136955060645313         9     42"
      ]
     },
     "execution_count": 4,
     "metadata": {},
     "output_type": "execute_result"
    }
   ],
   "source": [
    "df"
   ]
  },
  {
   "cell_type": "code",
   "execution_count": 4,
   "id": "4fbb35e1",
   "metadata": {},
   "outputs": [
    {
     "ename": "",
     "evalue": "",
     "output_type": "error",
     "traceback": [
      "\u001b[1;31mThe Kernel crashed while executing code in the current cell or a previous cell. \n",
      "\u001b[1;31mPlease review the code in the cell(s) to identify a possible cause of the failure. \n",
      "\u001b[1;31mClick <a href='https://aka.ms/vscodeJupyterKernelCrash'>here</a> for more info. \n",
      "\u001b[1;31mView Jupyter <a href='command:jupyter.viewOutput'>log</a> for further details."
     ]
    },
    {
     "ename": "",
     "evalue": "",
     "output_type": "error",
     "traceback": [
      "\u001b[1;31mCanceled future for execute_request message before replies were done"
     ]
    },
    {
     "ename": "",
     "evalue": "",
     "output_type": "error",
     "traceback": [
      "\u001b[1;31mCanceled future for execute_request message before replies were done. \n",
      "\u001b[1;31mView Jupyter <a href='command:jupyter.viewOutput'>log</a> for further details."
     ]
    }
   ],
   "source": [
    "df.viz.heatmap('median', 'ntl_harm', title='Temperature and Growth', limits='99%')"
   ]
  }
 ],
 "metadata": {
  "kernelspec": {
   "display_name": "vaex",
   "language": "python",
   "name": "python3"
  },
  "language_info": {
   "codemirror_mode": {
    "name": "ipython",
    "version": 3
   },
   "file_extension": ".py",
   "mimetype": "text/x-python",
   "name": "python",
   "nbconvert_exporter": "python",
   "pygments_lexer": "ipython3",
   "version": "3.10.18"
  }
 },
 "nbformat": 4,
 "nbformat_minor": 5
}
