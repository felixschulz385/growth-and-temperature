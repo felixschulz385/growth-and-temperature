{
 "cells": [
  {
   "cell_type": "code",
   "execution_count": null,
   "id": "8c49ca39",
   "metadata": {},
   "outputs": [],
   "source": [
    "# check file size, compress with various methods, and compare sizes\n",
    "import os\n",
    "import subprocess\n",
    "import sys\n",
    "\n",
    "def compress_file(file_path, method):\n",
    "    if method == 'gzip':\n",
    "        output_path = file_path + '.gz'\n",
    "        subprocess.run(['gzip', '-k', file_path], check=True)\n",
    "        return os.path.getsize(output_path)\n",
    "    elif method == 'bzip2':\n",
    "        output_path = file_path + '.bz2'\n",
    "        subprocess.run(['bzip2', '-k', file_path], check=True)\n",
    "        return os.path.getsize(output_path)\n",
    "    elif method == 'xz':\n",
    "        output_path = file_path + '.xz'\n",
    "        subprocess.run(['xz', '-k', file_path], check=True)\n",
    "        return os.path.getsize(output_path)\n",
    "    elif method == 'zip':\n",
    "        output_path = file_path + '.zip'\n",
    "        subprocess.run(['zip', '-k', output_path, file_path], check=True)\n",
    "        return os.path.getsize(output_path)\n",
    "    else:\n",
    "        raise ValueError(f\"Unknown compression method: {method}\")\n",
    "    \n",
    "def main(file_path):   \n",
    "    if not os.path.isfile(file_path):\n",
    "        print(f\"File not found: {file_path}\")\n",
    "        sys.exit(1)\n",
    "\n",
    "    methods = ['gzip', 'bzip2', 'xz', 'zip']\n",
    "    original_size = os.path.getsize(file_path)\n",
    "    print(f\"Original size: {original_size} bytes\")\n",
    "\n",
    "    for method in methods:\n",
    "        try:\n",
    "            compressed_size = compress_file(file_path, method)\n",
    "            print(f\"{method} compressed size: {compressed_size} bytes\")\n",
    "        except subprocess.CalledProcessError as e:\n",
    "            print(f\"Error compressing with {method}: {e}\")"
   ]
  },
  {
   "cell_type": "code",
   "execution_count": 5,
   "id": "7de9d2bc",
   "metadata": {},
   "outputs": [
    {
     "name": "stdout",
     "output_type": "stream",
     "text": [
      "Original size: 78973 bytes\n",
      "gzip compressed size: 4495 bytes\n",
      "bzip2 compressed size: 3907 bytes\n",
      "xz compressed size: 3264 bytes\n",
      "  adding: USERS/FELIXSCH/DESKTOP/TEST/GLASS_LS.V01 (deflated 94%)\n",
      "zip compressed size: 4638 bytes\n"
     ]
    }
   ],
   "source": [
    "main(\"/Users/felixschulz/Desktop/test/glass_LST_MODIS_Daily_1KM_GLASS06A01.V01.A2000055.h00v10.2022021.hdf\")"
   ]
  }
 ],
 "metadata": {
  "kernelspec": {
   "display_name": "thesis",
   "language": "python",
   "name": "python3"
  },
  "language_info": {
   "codemirror_mode": {
    "name": "ipython",
    "version": 3
   },
   "file_extension": ".py",
   "mimetype": "text/x-python",
   "name": "python",
   "nbconvert_exporter": "python",
   "pygments_lexer": "ipython3",
   "version": "3.9.19"
  }
 },
 "nbformat": 4,
 "nbformat_minor": 5
}
